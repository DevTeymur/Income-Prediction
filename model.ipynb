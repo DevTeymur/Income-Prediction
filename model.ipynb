{
 "cells": [
  {
   "cell_type": "code",
   "execution_count": 1,
   "id": "3bc44fdb",
   "metadata": {},
   "outputs": [],
   "source": [
    "import pandas as pd\n",
    "import numpy as np\n",
    "from matplotlib import pyplot as plt\n",
    "from warnings import filterwarnings\n",
    "filterwarnings('ignore')\n",
    "import missingno as msno"
   ]
  },
  {
   "cell_type": "code",
   "execution_count": 2,
   "id": "e630aa36",
   "metadata": {},
   "outputs": [],
   "source": [
    "df=pd.read_csv('adult.csv', na_values=['?', ' ?', '? '])"
   ]
  },
  {
   "cell_type": "code",
   "execution_count": 3,
   "id": "841c2ebe",
   "metadata": {},
   "outputs": [
    {
     "data": {
      "text/plain": [
       "(48842, 15)"
      ]
     },
     "execution_count": 3,
     "metadata": {},
     "output_type": "execute_result"
    }
   ],
   "source": [
    "df.shape"
   ]
  },
  {
   "cell_type": "code",
   "execution_count": 4,
   "id": "3ede2ade",
   "metadata": {},
   "outputs": [
    {
     "data": {
      "text/html": [
       "<div>\n",
       "<style scoped>\n",
       "    .dataframe tbody tr th:only-of-type {\n",
       "        vertical-align: middle;\n",
       "    }\n",
       "\n",
       "    .dataframe tbody tr th {\n",
       "        vertical-align: top;\n",
       "    }\n",
       "\n",
       "    .dataframe thead th {\n",
       "        text-align: right;\n",
       "    }\n",
       "</style>\n",
       "<table border=\"1\" class=\"dataframe\">\n",
       "  <thead>\n",
       "    <tr style=\"text-align: right;\">\n",
       "      <th></th>\n",
       "      <th>count</th>\n",
       "      <th>mean</th>\n",
       "      <th>std</th>\n",
       "      <th>min</th>\n",
       "      <th>25%</th>\n",
       "      <th>50%</th>\n",
       "      <th>75%</th>\n",
       "      <th>max</th>\n",
       "    </tr>\n",
       "  </thead>\n",
       "  <tbody>\n",
       "    <tr>\n",
       "      <th>age</th>\n",
       "      <td>48842.0</td>\n",
       "      <td>40.041255</td>\n",
       "      <td>27.258094</td>\n",
       "      <td>17.0</td>\n",
       "      <td>28.0</td>\n",
       "      <td>37.0</td>\n",
       "      <td>48.0</td>\n",
       "      <td>810.0</td>\n",
       "    </tr>\n",
       "    <tr>\n",
       "      <th>fnlwgt</th>\n",
       "      <td>48842.0</td>\n",
       "      <td>189664.134597</td>\n",
       "      <td>105604.025423</td>\n",
       "      <td>12285.0</td>\n",
       "      <td>117550.5</td>\n",
       "      <td>178144.5</td>\n",
       "      <td>237642.0</td>\n",
       "      <td>1490400.0</td>\n",
       "    </tr>\n",
       "    <tr>\n",
       "      <th>educational-num</th>\n",
       "      <td>48842.0</td>\n",
       "      <td>10.078089</td>\n",
       "      <td>2.570973</td>\n",
       "      <td>1.0</td>\n",
       "      <td>9.0</td>\n",
       "      <td>10.0</td>\n",
       "      <td>12.0</td>\n",
       "      <td>16.0</td>\n",
       "    </tr>\n",
       "    <tr>\n",
       "      <th>capital-gain</th>\n",
       "      <td>48842.0</td>\n",
       "      <td>1079.067626</td>\n",
       "      <td>7452.019058</td>\n",
       "      <td>0.0</td>\n",
       "      <td>0.0</td>\n",
       "      <td>0.0</td>\n",
       "      <td>0.0</td>\n",
       "      <td>99999.0</td>\n",
       "    </tr>\n",
       "    <tr>\n",
       "      <th>capital-loss</th>\n",
       "      <td>48842.0</td>\n",
       "      <td>87.502314</td>\n",
       "      <td>403.004552</td>\n",
       "      <td>0.0</td>\n",
       "      <td>0.0</td>\n",
       "      <td>0.0</td>\n",
       "      <td>0.0</td>\n",
       "      <td>4356.0</td>\n",
       "    </tr>\n",
       "    <tr>\n",
       "      <th>hours-per-week</th>\n",
       "      <td>48842.0</td>\n",
       "      <td>40.422382</td>\n",
       "      <td>12.391444</td>\n",
       "      <td>1.0</td>\n",
       "      <td>40.0</td>\n",
       "      <td>40.0</td>\n",
       "      <td>45.0</td>\n",
       "      <td>99.0</td>\n",
       "    </tr>\n",
       "  </tbody>\n",
       "</table>\n",
       "</div>"
      ],
      "text/plain": [
       "                   count           mean            std      min       25%  \\\n",
       "age              48842.0      40.041255      27.258094     17.0      28.0   \n",
       "fnlwgt           48842.0  189664.134597  105604.025423  12285.0  117550.5   \n",
       "educational-num  48842.0      10.078089       2.570973      1.0       9.0   \n",
       "capital-gain     48842.0    1079.067626    7452.019058      0.0       0.0   \n",
       "capital-loss     48842.0      87.502314     403.004552      0.0       0.0   \n",
       "hours-per-week   48842.0      40.422382      12.391444      1.0      40.0   \n",
       "\n",
       "                      50%       75%        max  \n",
       "age                  37.0      48.0      810.0  \n",
       "fnlwgt           178144.5  237642.0  1490400.0  \n",
       "educational-num      10.0      12.0       16.0  \n",
       "capital-gain          0.0       0.0    99999.0  \n",
       "capital-loss          0.0       0.0     4356.0  \n",
       "hours-per-week       40.0      45.0       99.0  "
      ]
     },
     "execution_count": 4,
     "metadata": {},
     "output_type": "execute_result"
    }
   ],
   "source": [
    "df.describe().T"
   ]
  },
  {
   "cell_type": "code",
   "execution_count": 5,
   "id": "40d9fd51",
   "metadata": {},
   "outputs": [
    {
     "name": "stdout",
     "output_type": "stream",
     "text": [
      "<class 'pandas.core.frame.DataFrame'>\n",
      "RangeIndex: 48842 entries, 0 to 48841\n",
      "Data columns (total 15 columns):\n",
      " #   Column           Non-Null Count  Dtype \n",
      "---  ------           --------------  ----- \n",
      " 0   age              48842 non-null  int64 \n",
      " 1   workclass        46043 non-null  object\n",
      " 2   fnlwgt           48842 non-null  int64 \n",
      " 3   education        48842 non-null  object\n",
      " 4   educational-num  48842 non-null  int64 \n",
      " 5   marital-status   48842 non-null  object\n",
      " 6   occupation       46033 non-null  object\n",
      " 7   relationship     48842 non-null  object\n",
      " 8   race             48842 non-null  object\n",
      " 9   gender           48842 non-null  object\n",
      " 10  capital-gain     48842 non-null  int64 \n",
      " 11  capital-loss     48842 non-null  int64 \n",
      " 12  hours-per-week   48842 non-null  int64 \n",
      " 13  native-country   47985 non-null  object\n",
      " 14  income           48842 non-null  object\n",
      "dtypes: int64(6), object(9)\n",
      "memory usage: 5.6+ MB\n"
     ]
    }
   ],
   "source": [
    "df.info()"
   ]
  },
  {
   "cell_type": "code",
   "execution_count": 6,
   "id": "1108118b",
   "metadata": {},
   "outputs": [
    {
     "data": {
      "text/html": [
       "<div>\n",
       "<style scoped>\n",
       "    .dataframe tbody tr th:only-of-type {\n",
       "        vertical-align: middle;\n",
       "    }\n",
       "\n",
       "    .dataframe tbody tr th {\n",
       "        vertical-align: top;\n",
       "    }\n",
       "\n",
       "    .dataframe thead th {\n",
       "        text-align: right;\n",
       "    }\n",
       "</style>\n",
       "<table border=\"1\" class=\"dataframe\">\n",
       "  <thead>\n",
       "    <tr style=\"text-align: right;\">\n",
       "      <th></th>\n",
       "      <th>age</th>\n",
       "      <th>workclass</th>\n",
       "      <th>fnlwgt</th>\n",
       "      <th>education</th>\n",
       "      <th>educational-num</th>\n",
       "      <th>marital-status</th>\n",
       "      <th>occupation</th>\n",
       "      <th>relationship</th>\n",
       "      <th>race</th>\n",
       "      <th>gender</th>\n",
       "      <th>capital-gain</th>\n",
       "      <th>capital-loss</th>\n",
       "      <th>hours-per-week</th>\n",
       "      <th>native-country</th>\n",
       "      <th>income</th>\n",
       "    </tr>\n",
       "  </thead>\n",
       "  <tbody>\n",
       "    <tr>\n",
       "      <th>0</th>\n",
       "      <td>25</td>\n",
       "      <td>Private</td>\n",
       "      <td>226802</td>\n",
       "      <td>11th</td>\n",
       "      <td>7</td>\n",
       "      <td>Never-married</td>\n",
       "      <td>Machine-op-inspct</td>\n",
       "      <td>Own-child</td>\n",
       "      <td>Black</td>\n",
       "      <td>Male</td>\n",
       "      <td>0</td>\n",
       "      <td>0</td>\n",
       "      <td>40</td>\n",
       "      <td>United-States</td>\n",
       "      <td>&lt;=50K</td>\n",
       "    </tr>\n",
       "    <tr>\n",
       "      <th>1</th>\n",
       "      <td>38</td>\n",
       "      <td>Private</td>\n",
       "      <td>89814</td>\n",
       "      <td>HS-grad</td>\n",
       "      <td>9</td>\n",
       "      <td>Married-civ-spouse</td>\n",
       "      <td>Farming-fishing</td>\n",
       "      <td>Husband</td>\n",
       "      <td>White</td>\n",
       "      <td>Male</td>\n",
       "      <td>0</td>\n",
       "      <td>0</td>\n",
       "      <td>50</td>\n",
       "      <td>United-States</td>\n",
       "      <td>&lt;=50K</td>\n",
       "    </tr>\n",
       "    <tr>\n",
       "      <th>2</th>\n",
       "      <td>28</td>\n",
       "      <td>Local-gov</td>\n",
       "      <td>336951</td>\n",
       "      <td>Assoc-acdm</td>\n",
       "      <td>12</td>\n",
       "      <td>Married-civ-spouse</td>\n",
       "      <td>Protective-serv</td>\n",
       "      <td>Husband</td>\n",
       "      <td>White</td>\n",
       "      <td>Male</td>\n",
       "      <td>0</td>\n",
       "      <td>0</td>\n",
       "      <td>40</td>\n",
       "      <td>United-States</td>\n",
       "      <td>&gt;50K</td>\n",
       "    </tr>\n",
       "    <tr>\n",
       "      <th>3</th>\n",
       "      <td>44</td>\n",
       "      <td>Private</td>\n",
       "      <td>160323</td>\n",
       "      <td>Some-college</td>\n",
       "      <td>10</td>\n",
       "      <td>Married-civ-spouse</td>\n",
       "      <td>Machine-op-inspct</td>\n",
       "      <td>Husband</td>\n",
       "      <td>Black</td>\n",
       "      <td>Male</td>\n",
       "      <td>7688</td>\n",
       "      <td>0</td>\n",
       "      <td>40</td>\n",
       "      <td>United-States</td>\n",
       "      <td>&gt;50K</td>\n",
       "    </tr>\n",
       "    <tr>\n",
       "      <th>4</th>\n",
       "      <td>18</td>\n",
       "      <td>NaN</td>\n",
       "      <td>103497</td>\n",
       "      <td>Some-college</td>\n",
       "      <td>10</td>\n",
       "      <td>Never-married</td>\n",
       "      <td>NaN</td>\n",
       "      <td>Own-child</td>\n",
       "      <td>White</td>\n",
       "      <td>Female</td>\n",
       "      <td>0</td>\n",
       "      <td>0</td>\n",
       "      <td>30</td>\n",
       "      <td>United-States</td>\n",
       "      <td>&lt;=50K</td>\n",
       "    </tr>\n",
       "  </tbody>\n",
       "</table>\n",
       "</div>"
      ],
      "text/plain": [
       "   age  workclass  fnlwgt     education  educational-num      marital-status  \\\n",
       "0   25    Private  226802          11th                7       Never-married   \n",
       "1   38    Private   89814       HS-grad                9  Married-civ-spouse   \n",
       "2   28  Local-gov  336951    Assoc-acdm               12  Married-civ-spouse   \n",
       "3   44    Private  160323  Some-college               10  Married-civ-spouse   \n",
       "4   18        NaN  103497  Some-college               10       Never-married   \n",
       "\n",
       "          occupation relationship   race  gender  capital-gain  capital-loss  \\\n",
       "0  Machine-op-inspct    Own-child  Black    Male             0             0   \n",
       "1    Farming-fishing      Husband  White    Male             0             0   \n",
       "2    Protective-serv      Husband  White    Male             0             0   \n",
       "3  Machine-op-inspct      Husband  Black    Male          7688             0   \n",
       "4                NaN    Own-child  White  Female             0             0   \n",
       "\n",
       "   hours-per-week native-country income  \n",
       "0              40  United-States  <=50K  \n",
       "1              50  United-States  <=50K  \n",
       "2              40  United-States   >50K  \n",
       "3              40  United-States   >50K  \n",
       "4              30  United-States  <=50K  "
      ]
     },
     "execution_count": 6,
     "metadata": {},
     "output_type": "execute_result"
    }
   ],
   "source": [
    "df.head()"
   ]
  },
  {
   "cell_type": "code",
   "execution_count": 7,
   "id": "eafdcaf6",
   "metadata": {},
   "outputs": [
    {
     "data": {
      "text/plain": [
       "<=50K    37155\n",
       ">50K     11687\n",
       "Name: income, dtype: int64"
      ]
     },
     "execution_count": 7,
     "metadata": {},
     "output_type": "execute_result"
    },
    {
     "data": {
      "image/png": "[encoded data removed]",
      "text/plain": [
       "<Figure size 1080x576 with 2 Axes>"
      ]
     },
     "metadata": {
      "needs_background": "light"
     },
     "output_type": "display_data"
    }
   ],
   "source": [
    "plt.figure(figsize=(15,8))\n",
    "plt.subplot(1,2,1)\n",
    "df['income'].value_counts().plot.pie(autopct='%1.1f%%')\n",
    "plt.subplot(1,2,2)\n",
    "sns.countplot(x='income',data=df)\n",
    "plt.ylabel('Number of People')\n",
    "df['income'].value_counts()"
   ]
  },
  {
   "cell_type": "markdown",
   "id": "0c21e76b",
   "metadata": {},
   "source": [
    "# Preprocessing"
   ]
  },
  {
   "cell_type": "code",
   "execution_count": 8,
   "id": "2ee261e6",
   "metadata": {},
   "outputs": [
    {
     "name": "stdout",
     "output_type": "stream",
     "text": [
      "workclass         2799\n",
      "occupation        2809\n",
      "native-country     857\n",
      "dtype: int64\n"
     ]
    }
   ],
   "source": [
    "nulls = df.isnull().sum()\n",
    "print(nulls[nulls > 0])"
   ]
  },
  {
   "cell_type": "code",
   "execution_count": 9,
   "id": "6e28db46",
   "metadata": {},
   "outputs": [
    {
     "data": {
      "text/html": [
       "<div>\n",
       "<style scoped>\n",
       "    .dataframe tbody tr th:only-of-type {\n",
       "        vertical-align: middle;\n",
       "    }\n",
       "\n",
       "    .dataframe tbody tr th {\n",
       "        vertical-align: top;\n",
       "    }\n",
       "\n",
       "    .dataframe thead th {\n",
       "        text-align: right;\n",
       "    }\n",
       "</style>\n",
       "<table border=\"1\" class=\"dataframe\">\n",
       "  <thead>\n",
       "    <tr style=\"text-align: right;\">\n",
       "      <th></th>\n",
       "      <th>age</th>\n",
       "      <th>workclass</th>\n",
       "      <th>fnlwgt</th>\n",
       "      <th>education</th>\n",
       "      <th>educational-num</th>\n",
       "      <th>marital-status</th>\n",
       "      <th>occupation</th>\n",
       "      <th>relationship</th>\n",
       "      <th>race</th>\n",
       "      <th>gender</th>\n",
       "      <th>capital-gain</th>\n",
       "      <th>capital-loss</th>\n",
       "      <th>hours-per-week</th>\n",
       "      <th>native-country</th>\n",
       "      <th>income</th>\n",
       "    </tr>\n",
       "  </thead>\n",
       "  <tbody>\n",
       "    <tr>\n",
       "      <th>33</th>\n",
       "      <td>230</td>\n",
       "      <td>Local-gov</td>\n",
       "      <td>258120</td>\n",
       "      <td>Some-college</td>\n",
       "      <td>10</td>\n",
       "      <td>Married-civ-spouse</td>\n",
       "      <td>Protective-serv</td>\n",
       "      <td>Husband</td>\n",
       "      <td>White</td>\n",
       "      <td>Male</td>\n",
       "      <td>0</td>\n",
       "      <td>0</td>\n",
       "      <td>40</td>\n",
       "      <td>United-States</td>\n",
       "      <td>&lt;=50K</td>\n",
       "    </tr>\n",
       "    <tr>\n",
       "      <th>760</th>\n",
       "      <td>300</td>\n",
       "      <td>Federal-gov</td>\n",
       "      <td>340899</td>\n",
       "      <td>Bachelors</td>\n",
       "      <td>13</td>\n",
       "      <td>Never-married</td>\n",
       "      <td>Prof-specialty</td>\n",
       "      <td>Not-in-family</td>\n",
       "      <td>White</td>\n",
       "      <td>Male</td>\n",
       "      <td>0</td>\n",
       "      <td>0</td>\n",
       "      <td>40</td>\n",
       "      <td>United-States</td>\n",
       "      <td>&lt;=50K</td>\n",
       "    </tr>\n",
       "    <tr>\n",
       "      <th>1348</th>\n",
       "      <td>250</td>\n",
       "      <td>Private</td>\n",
       "      <td>86646</td>\n",
       "      <td>Bachelors</td>\n",
       "      <td>13</td>\n",
       "      <td>Never-married</td>\n",
       "      <td>Prof-specialty</td>\n",
       "      <td>Not-in-family</td>\n",
       "      <td>White</td>\n",
       "      <td>Male</td>\n",
       "      <td>4865</td>\n",
       "      <td>0</td>\n",
       "      <td>48</td>\n",
       "      <td>United-States</td>\n",
       "      <td>&lt;=50K</td>\n",
       "    </tr>\n",
       "    <tr>\n",
       "      <th>1379</th>\n",
       "      <td>330</td>\n",
       "      <td>Self-emp-not-inc</td>\n",
       "      <td>103435</td>\n",
       "      <td>Prof-school</td>\n",
       "      <td>15</td>\n",
       "      <td>Married-civ-spouse</td>\n",
       "      <td>Prof-specialty</td>\n",
       "      <td>Husband</td>\n",
       "      <td>White</td>\n",
       "      <td>Male</td>\n",
       "      <td>7688</td>\n",
       "      <td>0</td>\n",
       "      <td>50</td>\n",
       "      <td>United-States</td>\n",
       "      <td>&gt;50K</td>\n",
       "    </tr>\n",
       "    <tr>\n",
       "      <th>1717</th>\n",
       "      <td>240</td>\n",
       "      <td>Private</td>\n",
       "      <td>176389</td>\n",
       "      <td>Bachelors</td>\n",
       "      <td>13</td>\n",
       "      <td>Never-married</td>\n",
       "      <td>Craft-repair</td>\n",
       "      <td>Own-child</td>\n",
       "      <td>White</td>\n",
       "      <td>Male</td>\n",
       "      <td>0</td>\n",
       "      <td>0</td>\n",
       "      <td>40</td>\n",
       "      <td>United-States</td>\n",
       "      <td>&lt;=50K</td>\n",
       "    </tr>\n",
       "    <tr>\n",
       "      <th>...</th>\n",
       "      <td>...</td>\n",
       "      <td>...</td>\n",
       "      <td>...</td>\n",
       "      <td>...</td>\n",
       "      <td>...</td>\n",
       "      <td>...</td>\n",
       "      <td>...</td>\n",
       "      <td>...</td>\n",
       "      <td>...</td>\n",
       "      <td>...</td>\n",
       "      <td>...</td>\n",
       "      <td>...</td>\n",
       "      <td>...</td>\n",
       "      <td>...</td>\n",
       "      <td>...</td>\n",
       "    </tr>\n",
       "    <tr>\n",
       "      <th>47518</th>\n",
       "      <td>180</td>\n",
       "      <td>Private</td>\n",
       "      <td>231562</td>\n",
       "      <td>HS-grad</td>\n",
       "      <td>9</td>\n",
       "      <td>Never-married</td>\n",
       "      <td>Sales</td>\n",
       "      <td>Own-child</td>\n",
       "      <td>White</td>\n",
       "      <td>Female</td>\n",
       "      <td>0</td>\n",
       "      <td>0</td>\n",
       "      <td>33</td>\n",
       "      <td>United-States</td>\n",
       "      <td>&lt;=50K</td>\n",
       "    </tr>\n",
       "    <tr>\n",
       "      <th>47689</th>\n",
       "      <td>270</td>\n",
       "      <td>Private</td>\n",
       "      <td>184078</td>\n",
       "      <td>Assoc-voc</td>\n",
       "      <td>11</td>\n",
       "      <td>Divorced</td>\n",
       "      <td>Adm-clerical</td>\n",
       "      <td>Unmarried</td>\n",
       "      <td>White</td>\n",
       "      <td>Female</td>\n",
       "      <td>0</td>\n",
       "      <td>0</td>\n",
       "      <td>40</td>\n",
       "      <td>United-States</td>\n",
       "      <td>&lt;=50K</td>\n",
       "    </tr>\n",
       "    <tr>\n",
       "      <th>47773</th>\n",
       "      <td>400</td>\n",
       "      <td>Federal-gov</td>\n",
       "      <td>130749</td>\n",
       "      <td>Some-college</td>\n",
       "      <td>10</td>\n",
       "      <td>Divorced</td>\n",
       "      <td>Exec-managerial</td>\n",
       "      <td>Not-in-family</td>\n",
       "      <td>Black</td>\n",
       "      <td>Female</td>\n",
       "      <td>0</td>\n",
       "      <td>0</td>\n",
       "      <td>40</td>\n",
       "      <td>United-States</td>\n",
       "      <td>&lt;=50K</td>\n",
       "    </tr>\n",
       "    <tr>\n",
       "      <th>48449</th>\n",
       "      <td>200</td>\n",
       "      <td>Private</td>\n",
       "      <td>200153</td>\n",
       "      <td>HS-grad</td>\n",
       "      <td>9</td>\n",
       "      <td>Never-married</td>\n",
       "      <td>Other-service</td>\n",
       "      <td>Own-child</td>\n",
       "      <td>White</td>\n",
       "      <td>Female</td>\n",
       "      <td>0</td>\n",
       "      <td>0</td>\n",
       "      <td>38</td>\n",
       "      <td>United-States</td>\n",
       "      <td>&lt;=50K</td>\n",
       "    </tr>\n",
       "    <tr>\n",
       "      <th>48520</th>\n",
       "      <td>360</td>\n",
       "      <td>Private</td>\n",
       "      <td>127573</td>\n",
       "      <td>HS-grad</td>\n",
       "      <td>9</td>\n",
       "      <td>Separated</td>\n",
       "      <td>Adm-clerical</td>\n",
       "      <td>Not-in-family</td>\n",
       "      <td>White</td>\n",
       "      <td>Female</td>\n",
       "      <td>0</td>\n",
       "      <td>0</td>\n",
       "      <td>38</td>\n",
       "      <td>United-States</td>\n",
       "      <td>&lt;=50K</td>\n",
       "    </tr>\n",
       "  </tbody>\n",
       "</table>\n",
       "<p>195 rows × 15 columns</p>\n",
       "</div>"
      ],
      "text/plain": [
       "       age         workclass  fnlwgt     education  educational-num  \\\n",
       "33     230         Local-gov  258120  Some-college               10   \n",
       "760    300       Federal-gov  340899     Bachelors               13   \n",
       "1348   250           Private   86646     Bachelors               13   \n",
       "1379   330  Self-emp-not-inc  103435   Prof-school               15   \n",
       "1717   240           Private  176389     Bachelors               13   \n",
       "...    ...               ...     ...           ...              ...   \n",
       "47518  180           Private  231562       HS-grad                9   \n",
       "47689  270           Private  184078     Assoc-voc               11   \n",
       "47773  400       Federal-gov  130749  Some-college               10   \n",
       "48449  200           Private  200153       HS-grad                9   \n",
       "48520  360           Private  127573       HS-grad                9   \n",
       "\n",
       "           marital-status       occupation   relationship   race  gender  \\\n",
       "33     Married-civ-spouse  Protective-serv        Husband  White    Male   \n",
       "760         Never-married   Prof-specialty  Not-in-family  White    Male   \n",
       "1348        Never-married   Prof-specialty  Not-in-family  White    Male   \n",
       "1379   Married-civ-spouse   Prof-specialty        Husband  White    Male   \n",
       "1717        Never-married     Craft-repair      Own-child  White    Male   \n",
       "...                   ...              ...            ...    ...     ...   \n",
       "47518       Never-married            Sales      Own-child  White  Female   \n",
       "47689            Divorced     Adm-clerical      Unmarried  White  Female   \n",
       "47773            Divorced  Exec-managerial  Not-in-family  Black  Female   \n",
       "48449       Never-married    Other-service      Own-child  White  Female   \n",
       "48520           Separated     Adm-clerical  Not-in-family  White  Female   \n",
       "\n",
       "       capital-gain  capital-loss  hours-per-week native-country income  \n",
       "33                0             0              40  United-States  <=50K  \n",
       "760               0             0              40  United-States  <=50K  \n",
       "1348           4865             0              48  United-States  <=50K  \n",
       "1379           7688             0              50  United-States   >50K  \n",
       "1717              0             0              40  United-States  <=50K  \n",
       "...             ...           ...             ...            ...    ...  \n",
       "47518             0             0              33  United-States  <=50K  \n",
       "47689             0             0              40  United-States  <=50K  \n",
       "47773             0             0              40  United-States  <=50K  \n",
       "48449             0             0              38  United-States  <=50K  \n",
       "48520             0             0              38  United-States  <=50K  \n",
       "\n",
       "[195 rows x 15 columns]"
      ]
     },
     "execution_count": 9,
     "metadata": {},
     "output_type": "execute_result"
    }
   ],
   "source": [
    "df[df['age']>170]"
   ]
  },
  {
   "cell_type": "code",
   "execution_count": 10,
   "id": "62d0c35e",
   "metadata": {},
   "outputs": [],
   "source": [
    "index=df[df.age>=170].index\n",
    "df.loc[index, 'age']=df.loc[index, 'age']/10"
   ]
  },
  {
   "cell_type": "code",
   "execution_count": 11,
   "id": "ac449986",
   "metadata": {},
   "outputs": [
    {
     "data": {
      "text/plain": [
       "90.0"
      ]
     },
     "execution_count": 11,
     "metadata": {},
     "output_type": "execute_result"
    }
   ],
   "source": [
    "df.age.max()"
   ]
  },
  {
   "cell_type": "code",
   "execution_count": 12,
   "id": "a3d5b44e",
   "metadata": {},
   "outputs": [],
   "source": [
    "#Dropping 244 rows that capital-gain is gereater than 50 000\n",
    "df=df.query(\"`capital-gain`<50000\")"
   ]
  },
  {
   "cell_type": "code",
   "execution_count": 13,
   "id": "2da21c02",
   "metadata": {},
   "outputs": [
    {
     "data": {
      "text/html": [
       "<div>\n",
       "<style scoped>\n",
       "    .dataframe tbody tr th:only-of-type {\n",
       "        vertical-align: middle;\n",
       "    }\n",
       "\n",
       "    .dataframe tbody tr th {\n",
       "        vertical-align: top;\n",
       "    }\n",
       "\n",
       "    .dataframe thead th {\n",
       "        text-align: right;\n",
       "    }\n",
       "</style>\n",
       "<table border=\"1\" class=\"dataframe\">\n",
       "  <thead>\n",
       "    <tr style=\"text-align: right;\">\n",
       "      <th></th>\n",
       "      <th>count</th>\n",
       "      <th>mean</th>\n",
       "      <th>std</th>\n",
       "      <th>min</th>\n",
       "      <th>25%</th>\n",
       "      <th>50%</th>\n",
       "      <th>75%</th>\n",
       "      <th>max</th>\n",
       "    </tr>\n",
       "  </thead>\n",
       "  <tbody>\n",
       "    <tr>\n",
       "      <th>age</th>\n",
       "      <td>48598.0</td>\n",
       "      <td>38.603585</td>\n",
       "      <td>13.712447</td>\n",
       "      <td>17.0</td>\n",
       "      <td>28.0</td>\n",
       "      <td>37.0</td>\n",
       "      <td>48.0</td>\n",
       "      <td>90.0</td>\n",
       "    </tr>\n",
       "    <tr>\n",
       "      <th>fnlwgt</th>\n",
       "      <td>48598.0</td>\n",
       "      <td>189684.801082</td>\n",
       "      <td>105630.335923</td>\n",
       "      <td>12285.0</td>\n",
       "      <td>117550.5</td>\n",
       "      <td>178215.0</td>\n",
       "      <td>237713.0</td>\n",
       "      <td>1490400.0</td>\n",
       "    </tr>\n",
       "    <tr>\n",
       "      <th>educational-num</th>\n",
       "      <td>48598.0</td>\n",
       "      <td>10.063295</td>\n",
       "      <td>2.562932</td>\n",
       "      <td>1.0</td>\n",
       "      <td>9.0</td>\n",
       "      <td>10.0</td>\n",
       "      <td>12.0</td>\n",
       "      <td>16.0</td>\n",
       "    </tr>\n",
       "    <tr>\n",
       "      <th>capital-gain</th>\n",
       "      <td>48598.0</td>\n",
       "      <td>582.412136</td>\n",
       "      <td>2536.651465</td>\n",
       "      <td>0.0</td>\n",
       "      <td>0.0</td>\n",
       "      <td>0.0</td>\n",
       "      <td>0.0</td>\n",
       "      <td>41310.0</td>\n",
       "    </tr>\n",
       "    <tr>\n",
       "      <th>capital-loss</th>\n",
       "      <td>48598.0</td>\n",
       "      <td>87.941644</td>\n",
       "      <td>403.967187</td>\n",
       "      <td>0.0</td>\n",
       "      <td>0.0</td>\n",
       "      <td>0.0</td>\n",
       "      <td>0.0</td>\n",
       "      <td>4356.0</td>\n",
       "    </tr>\n",
       "    <tr>\n",
       "      <th>hours-per-week</th>\n",
       "      <td>48598.0</td>\n",
       "      <td>40.371908</td>\n",
       "      <td>12.369769</td>\n",
       "      <td>1.0</td>\n",
       "      <td>40.0</td>\n",
       "      <td>40.0</td>\n",
       "      <td>45.0</td>\n",
       "      <td>99.0</td>\n",
       "    </tr>\n",
       "  </tbody>\n",
       "</table>\n",
       "</div>"
      ],
      "text/plain": [
       "                   count           mean            std      min       25%  \\\n",
       "age              48598.0      38.603585      13.712447     17.0      28.0   \n",
       "fnlwgt           48598.0  189684.801082  105630.335923  12285.0  117550.5   \n",
       "educational-num  48598.0      10.063295       2.562932      1.0       9.0   \n",
       "capital-gain     48598.0     582.412136    2536.651465      0.0       0.0   \n",
       "capital-loss     48598.0      87.941644     403.967187      0.0       0.0   \n",
       "hours-per-week   48598.0      40.371908      12.369769      1.0      40.0   \n",
       "\n",
       "                      50%       75%        max  \n",
       "age                  37.0      48.0       90.0  \n",
       "fnlwgt           178215.0  237713.0  1490400.0  \n",
       "educational-num      10.0      12.0       16.0  \n",
       "capital-gain          0.0       0.0    41310.0  \n",
       "capital-loss          0.0       0.0     4356.0  \n",
       "hours-per-week       40.0      45.0       99.0  "
      ]
     },
     "execution_count": 13,
     "metadata": {},
     "output_type": "execute_result"
    }
   ],
   "source": [
    "df.describe().T"
   ]
  },
  {
   "cell_type": "code",
   "execution_count": 14,
   "id": "9cb22687",
   "metadata": {
    "scrolled": true
   },
   "outputs": [
    {
     "data": {
      "text/plain": [
       "United-States                 0.913342\n",
       "Mexico                        0.019874\n",
       "Philippines                   0.006115\n",
       "Germany                       0.004314\n",
       "Puerto-Rico                   0.003853\n",
       "Canada                        0.003790\n",
       "El-Salvador                   0.003246\n",
       "India                         0.003078\n",
       "Cuba                          0.002890\n",
       "England                       0.002660\n",
       "China                         0.002534\n",
       "South                         0.002387\n",
       "Jamaica                       0.002220\n",
       "Italy                         0.002199\n",
       "Dominican-Republic            0.002136\n",
       "Japan                         0.001906\n",
       "Guatemala                     0.001843\n",
       "Poland                        0.001822\n",
       "Vietnam                       0.001801\n",
       "Columbia                      0.001780\n",
       "Haiti                         0.001571\n",
       "Portugal                      0.001403\n",
       "Taiwan                        0.001340\n",
       "Iran                          0.001236\n",
       "Nicaragua                     0.001026\n",
       "Greece                        0.001026\n",
       "Peru                          0.000963\n",
       "Ecuador                       0.000942\n",
       "France                        0.000796\n",
       "Ireland                       0.000775\n",
       "Hong                          0.000628\n",
       "Thailand                      0.000628\n",
       "Cambodia                      0.000586\n",
       "Trinadad&Tobago               0.000565\n",
       "Yugoslavia                    0.000482\n",
       "Laos                          0.000482\n",
       "Outlying-US(Guam-USVI-etc)    0.000482\n",
       "Scotland                      0.000440\n",
       "Honduras                      0.000419\n",
       "Hungary                       0.000398\n",
       "Holand-Netherlands            0.000021\n",
       "Name: native-country, dtype: float64"
      ]
     },
     "execution_count": 14,
     "metadata": {},
     "output_type": "execute_result"
    }
   ],
   "source": [
    "df['native-country'].value_counts(normalize=True)"
   ]
  },
  {
   "cell_type": "code",
   "execution_count": 15,
   "id": "50fb81c4",
   "metadata": {},
   "outputs": [],
   "source": [
    "#Dropping all countries except United-States\n",
    "df=df.query('`native-country`==\"United-States\"')"
   ]
  },
  {
   "cell_type": "code",
   "execution_count": 16,
   "id": "51a85fd4",
   "metadata": {},
   "outputs": [],
   "source": [
    "def object_cols(df):    \n",
    "    ob_cols=[col for col in df.columns if df[col].dtype=='O']\n",
    "    return ob_cols"
   ]
  },
  {
   "cell_type": "code",
   "execution_count": 17,
   "id": "fddc8bf4",
   "metadata": {},
   "outputs": [],
   "source": [
    "def numeric_cols(dataframe):\n",
    "    numeric_cols = [col for col in dataframe.columns if dataframe[col].dtypes != \"O\"]\n",
    "    return numeric_cols"
   ]
  },
  {
   "cell_type": "code",
   "execution_count": 24,
   "id": "8126ba5f",
   "metadata": {},
   "outputs": [],
   "source": [
    "def fill_with_mode(df,cols):\n",
    "    for col in cols:\n",
    "        df[col]=df[col].fillna(df[col].value_counts().index[0])\n",
    "    return df"
   ]
  },
  {
   "cell_type": "code",
   "execution_count": 26,
   "id": "2777c752",
   "metadata": {},
   "outputs": [
    {
     "data": {
      "text/plain": [
       "['workclass', 'occupation']"
      ]
     },
     "execution_count": 26,
     "metadata": {},
     "output_type": "execute_result"
    }
   ],
   "source": [
    "null_cols=list(df.columns[df.isnull().any()])\n",
    "null_cols  #Columns that contain Null values"
   ]
  },
  {
   "cell_type": "code",
   "execution_count": 27,
   "id": "56474a70",
   "metadata": {},
   "outputs": [],
   "source": [
    "df=fill_with_mode(df,null_cols)"
   ]
  },
  {
   "cell_type": "code",
   "execution_count": 28,
   "id": "4aedb6b9",
   "metadata": {},
   "outputs": [
    {
     "name": "stdout",
     "output_type": "stream",
     "text": [
      "Series([], dtype: int64)\n"
     ]
    }
   ],
   "source": [
    "nulls = df.isnull().sum()\n",
    "print(nulls[nulls > 0])"
   ]
  },
  {
   "cell_type": "markdown",
   "id": "616c6c60",
   "metadata": {},
   "source": [
    "# Outliers"
   ]
  },
  {
   "cell_type": "code",
   "execution_count": 18,
   "id": "77cea552",
   "metadata": {},
   "outputs": [],
   "source": [
    "from sklearn.preprocessing import LabelEncoder, OrdinalEncoder\n",
    "le=LabelEncoder()\n",
    "oe=OrdinalEncoder()"
   ]
  },
  {
   "cell_type": "code",
   "execution_count": 20,
   "id": "ddca99fd",
   "metadata": {},
   "outputs": [],
   "source": [
    "df['income']=le.fit_transform(df['income'])"
   ]
  },
  {
   "cell_type": "code",
   "execution_count": 29,
   "id": "8e6c365a",
   "metadata": {},
   "outputs": [],
   "source": [
    "for i in object_cols(df):\n",
    "    df[i]=oe.fit_transform(df[i].values.reshape(-1,1))"
   ]
  },
  {
   "cell_type": "code",
   "execution_count": 38,
   "id": "9eed58e0",
   "metadata": {},
   "outputs": [],
   "source": [
    "x=df.copy()\n",
    "x.drop('income',axis=1,inplace=True)\n",
    "y=df['income']"
   ]
  },
  {
   "cell_type": "code",
   "execution_count": 42,
   "id": "1e2040c7",
   "metadata": {},
   "outputs": [],
   "source": [
    "from imblearn.over_sampling import SMOTE\n",
    "o=SMOTE()"
   ]
  },
  {
   "cell_type": "code",
   "execution_count": 44,
   "id": "640021c6",
   "metadata": {},
   "outputs": [],
   "source": [
    "x,y=o.fit_resample(x,y)  #Data balanced"
   ]
  },
  {
   "cell_type": "markdown",
   "id": "d9d1cb36",
   "metadata": {},
   "source": [
    "# Model"
   ]
  },
  {
   "cell_type": "code",
   "execution_count": 48,
   "id": "ac33a112",
   "metadata": {},
   "outputs": [],
   "source": [
    "from sklearn.naive_bayes import  GaussianNB\n",
    "from sklearn.neighbors import KNeighborsClassifier\n",
    "from sklearn.linear_model import LogisticRegression\n",
    "from sklearn.tree import DecisionTreeClassifier\n",
    "from sklearn.ensemble import RandomForestClassifier, AdaBoostClassifier, GradientBoostingClassifier\n",
    "from xgboost import XGBClassifier"
   ]
  },
  {
   "cell_type": "code",
   "execution_count": 49,
   "id": "2fe087c6",
   "metadata": {},
   "outputs": [],
   "source": [
    "from sklearn.model_selection import train_test_split, cross_val_score\n",
    "from sklearn.metrics import accuracy_score"
   ]
  },
  {
   "cell_type": "code",
   "execution_count": 55,
   "id": "b623b54c",
   "metadata": {},
   "outputs": [],
   "source": [
    "def randomstate(x,y):\n",
    "    maxx=0\n",
    "    model=LogisticRegression()\n",
    "    for i in range(1,201):\n",
    "        xtrain,xtest,ytrain,ytest=train_test_split(x,y,test_size=0.25,random_state=i)\n",
    "        model.fit(xtrain,ytrain)\n",
    "        p=model.predict(xtest)\n",
    "        accu=accuracy_score(p,ytest)\n",
    "        if accu>maxx:\n",
    "            maxx=accu\n",
    "            j=i\n",
    "    return j"
   ]
  },
  {
   "cell_type": "code",
   "execution_count": 64,
   "id": "db5d5543",
   "metadata": {},
   "outputs": [],
   "source": [
    "def performance(p,ytest,m,xtest,s):\n",
    "    print(m)\n",
    "    print('Accuracy',np.round(accuracy_score(p,ytest),4))\n",
    "    print('---------------------------------------')\n",
    "    print('Mean of Cross Validation Score',np.round(s.mean(),4))\n",
    "    print('---------------------------------------\\n')"
   ]
  },
  {
   "cell_type": "code",
   "execution_count": 60,
   "id": "ddd13494",
   "metadata": {},
   "outputs": [],
   "source": [
    "models=[GaussianNB(),KNeighborsClassifier(),LogisticRegression(),DecisionTreeClassifier(),\n",
    "        RandomForestClassifier(),AdaBoostClassifier(),GradientBoostingClassifier(),XGBClassifier(verbosity=0)]\n",
    "rs=randomstate(x,y)"
   ]
  },
  {
   "cell_type": "code",
   "execution_count": 65,
   "id": "53100c63",
   "metadata": {},
   "outputs": [],
   "source": [
    "def classification_models(x,y):\n",
    "    X_train,X_test,Y_train,Y_test=train_test_split(x,y,test_size=0.25,random_state=rs)\n",
    "    for model in models:\n",
    "        model.fit(X_train,Y_train)\n",
    "        p=model.predict(X_test)\n",
    "        score=cross_val_score(model,x,y,cv=10)\n",
    "        performance(p,Y_test,model,X_test,score) "
   ]
  },
  {
   "cell_type": "code",
   "execution_count": 66,
   "id": "c14d84d0",
   "metadata": {},
   "outputs": [
    {
     "name": "stdout",
     "output_type": "stream",
     "text": [
      "GaussianNB()\n",
      "Accuracy 0.6111\n",
      "---------------------------------------\n",
      "Mean of Cross Validation Score 0.6161\n",
      "---------------------------------------\n",
      "\n",
      "KNeighborsClassifier()\n",
      "Accuracy 0.7229\n",
      "---------------------------------------\n",
      "Mean of Cross Validation Score 0.7377\n",
      "---------------------------------------\n",
      "\n",
      "LogisticRegression()\n",
      "Accuracy 0.686\n",
      "---------------------------------------\n",
      "Mean of Cross Validation Score 0.6197\n",
      "---------------------------------------\n",
      "\n",
      "DecisionTreeClassifier()\n",
      "Accuracy 0.8629\n",
      "---------------------------------------\n",
      "Mean of Cross Validation Score 0.8587\n",
      "---------------------------------------\n",
      "\n",
      "RandomForestClassifier()\n",
      "Accuracy 0.9004\n",
      "---------------------------------------\n",
      "Mean of Cross Validation Score 0.8926\n",
      "---------------------------------------\n",
      "\n",
      "AdaBoostClassifier()\n",
      "Accuracy 0.8829\n",
      "---------------------------------------\n",
      "Mean of Cross Validation Score 0.8777\n",
      "---------------------------------------\n",
      "\n",
      "GradientBoostingClassifier()\n",
      "Accuracy 0.8956\n",
      "---------------------------------------\n",
      "Mean of Cross Validation Score 0.8899\n",
      "---------------------------------------\n",
      "\n",
      "XGBClassifier(base_score=0.5, booster='gbtree', colsample_bylevel=1,\n",
      "              colsample_bynode=1, colsample_bytree=1, gamma=0, gpu_id=-1,\n",
      "              importance_type='gain', interaction_constraints='',\n",
      "              learning_rate=0.300000012, max_delta_step=0, max_depth=6,\n",
      "              min_child_weight=1, missing=nan, monotone_constraints='()',\n",
      "              n_estimators=100, n_jobs=8, num_parallel_tree=1, random_state=0,\n",
      "              reg_alpha=0, reg_lambda=1, scale_pos_weight=1, subsample=1,\n",
      "              tree_method='exact', validate_parameters=1, verbosity=0)\n",
      "Accuracy 0.9127\n",
      "---------------------------------------\n",
      "Mean of Cross Validation Score 0.9041\n",
      "---------------------------------------\n",
      "\n"
     ]
    }
   ],
   "source": [
    "classification_models(x,y)"
   ]
  },
  {
   "cell_type": "code",
   "execution_count": 67,
   "id": "847a36c2",
   "metadata": {},
   "outputs": [],
   "source": [
    "from sklearn.model_selection import RandomizedSearchCV"
   ]
  },
  {
   "cell_type": "code",
   "execution_count": 68,
   "id": "14ca8d28",
   "metadata": {},
   "outputs": [],
   "source": [
    "params={'n_estimators':[100,300,500],\n",
    "      'learning_rate':[0.001,0.01,0.10,],\n",
    "      'subsample':[0.5,1],\n",
    "      'max_depth':[1,2,3,4,5,6,7,8,9,10,None]}"
   ]
  },
  {
   "cell_type": "code",
   "execution_count": 71,
   "id": "15744dd1",
   "metadata": {},
   "outputs": [
    {
     "data": {
      "text/plain": [
       "RandomizedSearchCV(cv=10, estimator=GradientBoostingClassifier(),\n",
       "                   param_distributions={'learning_rate': [0.001, 0.01, 0.1],\n",
       "                                        'max_depth': [1, 2, 3, 4, 5, 6, 7, 8, 9,\n",
       "                                                      10, None],\n",
       "                                        'n_estimators': [100, 300, 500],\n",
       "                                        'subsample': [0.5, 1]})"
      ]
     },
     "execution_count": 71,
     "metadata": {},
     "output_type": "execute_result"
    }
   ],
   "source": [
    "g=RandomizedSearchCV(GradientBoostingClassifier(),params,cv=10)\n",
    "X_train,X_test,Y_train,Y_test=train_test_split(x,y,test_size=0.25,random_state=rs)\n",
    "g.fit(X_train, Y_train)"
   ]
  },
  {
   "cell_type": "code",
   "execution_count": 72,
   "id": "e2dd0f66",
   "metadata": {},
   "outputs": [
    {
     "name": "stdout",
     "output_type": "stream",
     "text": [
      "{'subsample': 1, 'n_estimators': 300, 'max_depth': 7, 'learning_rate': 0.1}\n",
      "GradientBoostingClassifier(max_depth=7, n_estimators=300, subsample=1)\n",
      "0.9111996136950451\n"
     ]
    }
   ],
   "source": [
    "print(g.best_params_)\n",
    "print(g.best_estimator_)\n",
    "print(g.best_score_)"
   ]
  },
  {
   "cell_type": "code",
   "execution_count": 73,
   "id": "e2244770",
   "metadata": {},
   "outputs": [
    {
     "name": "stdout",
     "output_type": "stream",
     "text": [
      "GradientBoostingClassifier(max_depth=7, subsample=1)\n",
      "Accuracy 0.9118\n",
      "---------------------------------------\n",
      "Mean of Cross Validation Score 0.9035\n",
      "---------------------------------------\n",
      "\n"
     ]
    }
   ],
   "source": [
    "m=GradientBoostingClassifier(max_depth=7, subsample=1)\n",
    "m.fit(X_train,Y_train)\n",
    "p=m.predict(X_test)\n",
    "score=cross_val_score(m,x,y,cv=10)\n",
    "performance(p,Y_test,m,X_test,score)"
   ]
  },
  {
   "cell_type": "code",
   "execution_count": null,
   "id": "4765ee01",
   "metadata": {},
   "outputs": [],
   "source": []
  }
 ],
 "metadata": {
  "kernelspec": {
   "display_name": "Python 3",
   "language": "python",
   "name": "python3"
  },
  "language_info": {
   "codemirror_mode": {
    "name": "ipython",
    "version": 3
   },
   "file_extension": ".py",
   "mimetype": "text/x-python",
   "name": "python",
   "nbconvert_exporter": "python",
   "pygments_lexer": "ipython3",
   "version": "3.8.5"
  }
 },
 "nbformat": 4,
 "nbformat_minor": 5
}
